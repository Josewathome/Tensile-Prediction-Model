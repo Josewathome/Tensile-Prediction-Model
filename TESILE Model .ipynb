{
 "cells": [
  {
   "cell_type": "markdown",
   "metadata": {},
   "source": [
    "# The tensile Model"
   ]
  },
  {
   "cell_type": "markdown",
   "metadata": {},
   "source": [
    "### Libraries"
   ]
  },
  {
   "cell_type": "code",
   "execution_count": 1,
   "metadata": {},
   "outputs": [],
   "source": [
    "import pandas as pd\n",
    "import numpy as np\n",
    "import matplotlib.pyplot as plt"
   ]
  },
  {
   "cell_type": "markdown",
   "metadata": {},
   "source": [
    "### Loading the data"
   ]
  },
  {
   "cell_type": "code",
   "execution_count": 2,
   "metadata": {},
   "outputs": [
    {
     "data": {
      "text/html": [
       "<div>\n",
       "<style scoped>\n",
       "    .dataframe tbody tr th:only-of-type {\n",
       "        vertical-align: middle;\n",
       "    }\n",
       "\n",
       "    .dataframe tbody tr th {\n",
       "        vertical-align: top;\n",
       "    }\n",
       "\n",
       "    .dataframe thead th {\n",
       "        text-align: right;\n",
       "    }\n",
       "</style>\n",
       "<table border=\"1\" class=\"dataframe\">\n",
       "  <thead>\n",
       "    <tr style=\"text-align: right;\">\n",
       "      <th></th>\n",
       "      <th>Samples</th>\n",
       "      <th>Cement amount (g)</th>\n",
       "      <th>Water (g)</th>\n",
       "      <th>Type of cement</th>\n",
       "      <th>Average Aggregate size (mm)</th>\n",
       "      <th>Aggregate(Coarse)(g)</th>\n",
       "      <th>Aggregate(SAND)(g)</th>\n",
       "      <th>Curing Duration (days)</th>\n",
       "      <th>Admixtures</th>\n",
       "      <th>Load at Fracture (N)</th>\n",
       "      <th>Tensile Strength (MPa)</th>\n",
       "    </tr>\n",
       "  </thead>\n",
       "  <tbody>\n",
       "    <tr>\n",
       "      <th>0</th>\n",
       "      <td>1</td>\n",
       "      <td>701</td>\n",
       "      <td>190</td>\n",
       "      <td>WHITE CEMENT</td>\n",
       "      <td>20</td>\n",
       "      <td>2828</td>\n",
       "      <td>1414</td>\n",
       "      <td>7</td>\n",
       "      <td>Air-Entraining</td>\n",
       "      <td>92776</td>\n",
       "      <td>2.953152</td>\n",
       "    </tr>\n",
       "    <tr>\n",
       "      <th>1</th>\n",
       "      <td>2</td>\n",
       "      <td>701</td>\n",
       "      <td>100</td>\n",
       "      <td>WHITE CEMENT</td>\n",
       "      <td>10</td>\n",
       "      <td>2828</td>\n",
       "      <td>1414</td>\n",
       "      <td>7</td>\n",
       "      <td>Air-Entraining</td>\n",
       "      <td>81299</td>\n",
       "      <td>2.587828</td>\n",
       "    </tr>\n",
       "    <tr>\n",
       "      <th>2</th>\n",
       "      <td>3</td>\n",
       "      <td>701</td>\n",
       "      <td>284</td>\n",
       "      <td>OPC</td>\n",
       "      <td>5</td>\n",
       "      <td>2828</td>\n",
       "      <td>1414</td>\n",
       "      <td>7</td>\n",
       "      <td>NaN</td>\n",
       "      <td>101192</td>\n",
       "      <td>3.221041</td>\n",
       "    </tr>\n",
       "    <tr>\n",
       "      <th>3</th>\n",
       "      <td>4</td>\n",
       "      <td>701</td>\n",
       "      <td>246</td>\n",
       "      <td>KP Silver</td>\n",
       "      <td>5</td>\n",
       "      <td>2828</td>\n",
       "      <td>1414</td>\n",
       "      <td>7</td>\n",
       "      <td>Air-Entraining</td>\n",
       "      <td>55086</td>\n",
       "      <td>1.753442</td>\n",
       "    </tr>\n",
       "    <tr>\n",
       "      <th>4</th>\n",
       "      <td>5</td>\n",
       "      <td>701</td>\n",
       "      <td>277</td>\n",
       "      <td>WHITE CEMENT</td>\n",
       "      <td>20</td>\n",
       "      <td>2828</td>\n",
       "      <td>1414</td>\n",
       "      <td>7</td>\n",
       "      <td>NaN</td>\n",
       "      <td>73726</td>\n",
       "      <td>2.346771</td>\n",
       "    </tr>\n",
       "  </tbody>\n",
       "</table>\n",
       "</div>"
      ],
      "text/plain": [
       "   Samples  Cement amount (g)  Water (g) Type of cement  \\\n",
       "0        1                701        190   WHITE CEMENT   \n",
       "1        2                701        100   WHITE CEMENT   \n",
       "2        3                701        284            OPC   \n",
       "3        4                701        246      KP Silver   \n",
       "4        5                701        277   WHITE CEMENT   \n",
       "\n",
       "   Average Aggregate size (mm)  Aggregate(Coarse)(g)  Aggregate(SAND)(g)  \\\n",
       "0                           20                  2828                1414   \n",
       "1                           10                  2828                1414   \n",
       "2                            5                  2828                1414   \n",
       "3                            5                  2828                1414   \n",
       "4                           20                  2828                1414   \n",
       "\n",
       "   Curing Duration (days)      Admixtures  Load at Fracture (N)  \\\n",
       "0                       7  Air-Entraining                 92776   \n",
       "1                       7  Air-Entraining                 81299   \n",
       "2                       7             NaN                101192   \n",
       "3                       7  Air-Entraining                 55086   \n",
       "4                       7             NaN                 73726   \n",
       "\n",
       "   Tensile Strength (MPa)  \n",
       "0                2.953152  \n",
       "1                2.587828  \n",
       "2                3.221041  \n",
       "3                1.753442  \n",
       "4                2.346771  "
      ]
     },
     "execution_count": 2,
     "metadata": {},
     "output_type": "execute_result"
    }
   ],
   "source": [
    "data = pd.read_csv('Processed_concrete_data.csv')\n",
    "data.head()"
   ]
  },
  {
   "cell_type": "markdown",
   "metadata": {},
   "source": [
    "### DATA PROCESSING"
   ]
  },
  {
   "cell_type": "code",
   "execution_count": 3,
   "metadata": {},
   "outputs": [
    {
     "data": {
      "text/html": [
       "<div>\n",
       "<style scoped>\n",
       "    .dataframe tbody tr th:only-of-type {\n",
       "        vertical-align: middle;\n",
       "    }\n",
       "\n",
       "    .dataframe tbody tr th {\n",
       "        vertical-align: top;\n",
       "    }\n",
       "\n",
       "    .dataframe thead th {\n",
       "        text-align: right;\n",
       "    }\n",
       "</style>\n",
       "<table border=\"1\" class=\"dataframe\">\n",
       "  <thead>\n",
       "    <tr style=\"text-align: right;\">\n",
       "      <th></th>\n",
       "      <th>count</th>\n",
       "      <th>unique</th>\n",
       "      <th>top</th>\n",
       "      <th>freq</th>\n",
       "      <th>mean</th>\n",
       "      <th>std</th>\n",
       "      <th>min</th>\n",
       "      <th>25%</th>\n",
       "      <th>50%</th>\n",
       "      <th>75%</th>\n",
       "      <th>max</th>\n",
       "    </tr>\n",
       "  </thead>\n",
       "  <tbody>\n",
       "    <tr>\n",
       "      <th>Samples</th>\n",
       "      <td>81.0</td>\n",
       "      <td>NaN</td>\n",
       "      <td>NaN</td>\n",
       "      <td>NaN</td>\n",
       "      <td>13.641975</td>\n",
       "      <td>7.508843</td>\n",
       "      <td>1.0</td>\n",
       "      <td>8.0</td>\n",
       "      <td>13.0</td>\n",
       "      <td>20.0</td>\n",
       "      <td>27.0</td>\n",
       "    </tr>\n",
       "    <tr>\n",
       "      <th>Cement amount (g)</th>\n",
       "      <td>81.0</td>\n",
       "      <td>NaN</td>\n",
       "      <td>NaN</td>\n",
       "      <td>NaN</td>\n",
       "      <td>701.0</td>\n",
       "      <td>0.0</td>\n",
       "      <td>701.0</td>\n",
       "      <td>701.0</td>\n",
       "      <td>701.0</td>\n",
       "      <td>701.0</td>\n",
       "      <td>701.0</td>\n",
       "    </tr>\n",
       "    <tr>\n",
       "      <th>Water (g)</th>\n",
       "      <td>81.0</td>\n",
       "      <td>NaN</td>\n",
       "      <td>NaN</td>\n",
       "      <td>NaN</td>\n",
       "      <td>321.111111</td>\n",
       "      <td>111.486322</td>\n",
       "      <td>100.0</td>\n",
       "      <td>243.0</td>\n",
       "      <td>334.0</td>\n",
       "      <td>418.0</td>\n",
       "      <td>494.0</td>\n",
       "    </tr>\n",
       "    <tr>\n",
       "      <th>Type of cement</th>\n",
       "      <td>81</td>\n",
       "      <td>3</td>\n",
       "      <td>WHITE CEMENT</td>\n",
       "      <td>33</td>\n",
       "      <td>NaN</td>\n",
       "      <td>NaN</td>\n",
       "      <td>NaN</td>\n",
       "      <td>NaN</td>\n",
       "      <td>NaN</td>\n",
       "      <td>NaN</td>\n",
       "      <td>NaN</td>\n",
       "    </tr>\n",
       "    <tr>\n",
       "      <th>Average Aggregate size (mm)</th>\n",
       "      <td>81.0</td>\n",
       "      <td>NaN</td>\n",
       "      <td>NaN</td>\n",
       "      <td>NaN</td>\n",
       "      <td>10.679012</td>\n",
       "      <td>6.111111</td>\n",
       "      <td>5.0</td>\n",
       "      <td>5.0</td>\n",
       "      <td>10.0</td>\n",
       "      <td>20.0</td>\n",
       "      <td>20.0</td>\n",
       "    </tr>\n",
       "    <tr>\n",
       "      <th>Aggregate(Coarse)(g)</th>\n",
       "      <td>81.0</td>\n",
       "      <td>NaN</td>\n",
       "      <td>NaN</td>\n",
       "      <td>NaN</td>\n",
       "      <td>2828.0</td>\n",
       "      <td>0.0</td>\n",
       "      <td>2828.0</td>\n",
       "      <td>2828.0</td>\n",
       "      <td>2828.0</td>\n",
       "      <td>2828.0</td>\n",
       "      <td>2828.0</td>\n",
       "    </tr>\n",
       "    <tr>\n",
       "      <th>Aggregate(SAND)(g)</th>\n",
       "      <td>81.0</td>\n",
       "      <td>NaN</td>\n",
       "      <td>NaN</td>\n",
       "      <td>NaN</td>\n",
       "      <td>1414.0</td>\n",
       "      <td>0.0</td>\n",
       "      <td>1414.0</td>\n",
       "      <td>1414.0</td>\n",
       "      <td>1414.0</td>\n",
       "      <td>1414.0</td>\n",
       "      <td>1414.0</td>\n",
       "    </tr>\n",
       "    <tr>\n",
       "      <th>Curing Duration (days)</th>\n",
       "      <td>81.0</td>\n",
       "      <td>NaN</td>\n",
       "      <td>NaN</td>\n",
       "      <td>NaN</td>\n",
       "      <td>7.0</td>\n",
       "      <td>0.0</td>\n",
       "      <td>7.0</td>\n",
       "      <td>7.0</td>\n",
       "      <td>7.0</td>\n",
       "      <td>7.0</td>\n",
       "      <td>7.0</td>\n",
       "    </tr>\n",
       "    <tr>\n",
       "      <th>Admixtures</th>\n",
       "      <td>38</td>\n",
       "      <td>1</td>\n",
       "      <td>Air-Entraining</td>\n",
       "      <td>38</td>\n",
       "      <td>NaN</td>\n",
       "      <td>NaN</td>\n",
       "      <td>NaN</td>\n",
       "      <td>NaN</td>\n",
       "      <td>NaN</td>\n",
       "      <td>NaN</td>\n",
       "      <td>NaN</td>\n",
       "    </tr>\n",
       "    <tr>\n",
       "      <th>Load at Fracture (N)</th>\n",
       "      <td>81.0</td>\n",
       "      <td>NaN</td>\n",
       "      <td>NaN</td>\n",
       "      <td>NaN</td>\n",
       "      <td>76370.925926</td>\n",
       "      <td>14537.294309</td>\n",
       "      <td>51540.0</td>\n",
       "      <td>63129.0</td>\n",
       "      <td>76112.0</td>\n",
       "      <td>89329.0</td>\n",
       "      <td>101329.0</td>\n",
       "    </tr>\n",
       "    <tr>\n",
       "      <th>Tensile Strength (MPa)</th>\n",
       "      <td>81.0</td>\n",
       "      <td>NaN</td>\n",
       "      <td>NaN</td>\n",
       "      <td>NaN</td>\n",
       "      <td>2.430962</td>\n",
       "      <td>0.462736</td>\n",
       "      <td>1.640569</td>\n",
       "      <td>2.009458</td>\n",
       "      <td>2.42272</td>\n",
       "      <td>2.84343</td>\n",
       "      <td>3.225402</td>\n",
       "    </tr>\n",
       "  </tbody>\n",
       "</table>\n",
       "</div>"
      ],
      "text/plain": [
       "                            count unique             top freq          mean  \\\n",
       "Samples                      81.0    NaN             NaN  NaN     13.641975   \n",
       "Cement amount (g)            81.0    NaN             NaN  NaN         701.0   \n",
       "Water (g)                    81.0    NaN             NaN  NaN    321.111111   \n",
       "Type of cement                 81      3    WHITE CEMENT   33           NaN   \n",
       "Average Aggregate size (mm)  81.0    NaN             NaN  NaN     10.679012   \n",
       "Aggregate(Coarse)(g)         81.0    NaN             NaN  NaN        2828.0   \n",
       "Aggregate(SAND)(g)           81.0    NaN             NaN  NaN        1414.0   \n",
       "Curing Duration (days)       81.0    NaN             NaN  NaN           7.0   \n",
       "Admixtures                     38      1  Air-Entraining   38           NaN   \n",
       "Load at Fracture (N)         81.0    NaN             NaN  NaN  76370.925926   \n",
       "Tensile Strength (MPa)       81.0    NaN             NaN  NaN      2.430962   \n",
       "\n",
       "                                      std       min       25%      50%  \\\n",
       "Samples                          7.508843       1.0       8.0     13.0   \n",
       "Cement amount (g)                     0.0     701.0     701.0    701.0   \n",
       "Water (g)                      111.486322     100.0     243.0    334.0   \n",
       "Type of cement                        NaN       NaN       NaN      NaN   \n",
       "Average Aggregate size (mm)      6.111111       5.0       5.0     10.0   \n",
       "Aggregate(Coarse)(g)                  0.0    2828.0    2828.0   2828.0   \n",
       "Aggregate(SAND)(g)                    0.0    1414.0    1414.0   1414.0   \n",
       "Curing Duration (days)                0.0       7.0       7.0      7.0   \n",
       "Admixtures                            NaN       NaN       NaN      NaN   \n",
       "Load at Fracture (N)         14537.294309   51540.0   63129.0  76112.0   \n",
       "Tensile Strength (MPa)           0.462736  1.640569  2.009458  2.42272   \n",
       "\n",
       "                                 75%       max  \n",
       "Samples                         20.0      27.0  \n",
       "Cement amount (g)              701.0     701.0  \n",
       "Water (g)                      418.0     494.0  \n",
       "Type of cement                   NaN       NaN  \n",
       "Average Aggregate size (mm)     20.0      20.0  \n",
       "Aggregate(Coarse)(g)          2828.0    2828.0  \n",
       "Aggregate(SAND)(g)            1414.0    1414.0  \n",
       "Curing Duration (days)           7.0       7.0  \n",
       "Admixtures                       NaN       NaN  \n",
       "Load at Fracture (N)         89329.0  101329.0  \n",
       "Tensile Strength (MPa)       2.84343  3.225402  "
      ]
     },
     "execution_count": 3,
     "metadata": {},
     "output_type": "execute_result"
    }
   ],
   "source": [
    "# Summary OF MY DATA\n",
    "data.describe(include=\"all\").T"
   ]
  },
  {
   "cell_type": "code",
   "execution_count": 4,
   "metadata": {},
   "outputs": [
    {
     "data": {
      "text/plain": [
       "Samples                         0\n",
       "Cement amount (g)               0\n",
       "Water (g)                       0\n",
       "Type of cement                  0\n",
       "Average Aggregate size (mm)     0\n",
       "Aggregate(Coarse)(g)            0\n",
       "Aggregate(SAND)(g)              0\n",
       "Curing Duration (days)          0\n",
       "Admixtures                     43\n",
       "Load at Fracture (N)            0\n",
       "Tensile Strength (MPa)          0\n",
       "dtype: int64"
      ]
     },
     "execution_count": 4,
     "metadata": {},
     "output_type": "execute_result"
    }
   ],
   "source": [
    "data.isnull().sum()"
   ]
  },
  {
   "cell_type": "markdown",
   "metadata": {},
   "source": [
    "Check if data is normaly distributed"
   ]
  },
  {
   "cell_type": "code",
   "execution_count": 5,
   "metadata": {},
   "outputs": [
    {
     "data": {
      "image/png": "[encoded data removed]",
      "text/plain": [
       "<Figure size 640x480 with 1 Axes>"
      ]
     },
     "metadata": {},
     "output_type": "display_data"
    }
   ],
   "source": [
    "plt.bar(data[\"Type of cement\"], data['Tensile Strength (MPa)'])\n",
    "plt.title('Tensile Strengths of Different Types of Cement')\n",
    "plt.xlabel('Type of Cement')\n",
    "plt.ylabel('Tensile Strength (MPa)')\n",
    "plt.show()"
   ]
  },
  {
   "cell_type": "markdown",
   "metadata": {},
   "source": [
    "### Converting the Null values in Admixtures.\n",
    "If no admixture was used WRITE IT to No Admixture"
   ]
  },
  {
   "cell_type": "code",
   "execution_count": 6,
   "metadata": {},
   "outputs": [
    {
     "data": {
      "text/plain": [
       "Samples                        0\n",
       "Cement amount (g)              0\n",
       "Water (g)                      0\n",
       "Type of cement                 0\n",
       "Average Aggregate size (mm)    0\n",
       "Aggregate(Coarse)(g)           0\n",
       "Aggregate(SAND)(g)             0\n",
       "Curing Duration (days)         0\n",
       "Admixtures                     0\n",
       "Load at Fracture (N)           0\n",
       "Tensile Strength (MPa)         0\n",
       "dtype: int64"
      ]
     },
     "execution_count": 6,
     "metadata": {},
     "output_type": "execute_result"
    }
   ],
   "source": [
    "data['Admixtures'] = data['Admixtures'].fillna('No Admixture')\n",
    "data.isnull().sum()"
   ]
  },
  {
   "cell_type": "markdown",
   "metadata": {},
   "source": [
    "### FEATURE SELECTION\n",
    "I will do this by removing the columns that I do not need for my model\n",
    "\n",
    "Like the Samples, Load at Fracture (N)"
   ]
  },
  {
   "cell_type": "code",
   "execution_count": 7,
   "metadata": {},
   "outputs": [
    {
     "data": {
      "text/html": [
       "<div>\n",
       "<style scoped>\n",
       "    .dataframe tbody tr th:only-of-type {\n",
       "        vertical-align: middle;\n",
       "    }\n",
       "\n",
       "    .dataframe tbody tr th {\n",
       "        vertical-align: top;\n",
       "    }\n",
       "\n",
       "    .dataframe thead th {\n",
       "        text-align: right;\n",
       "    }\n",
       "</style>\n",
       "<table border=\"1\" class=\"dataframe\">\n",
       "  <thead>\n",
       "    <tr style=\"text-align: right;\">\n",
       "      <th></th>\n",
       "      <th>Cement amount (g)</th>\n",
       "      <th>Water (g)</th>\n",
       "      <th>Type of cement</th>\n",
       "      <th>Average Aggregate size (mm)</th>\n",
       "      <th>Aggregate(Coarse)(g)</th>\n",
       "      <th>Aggregate(SAND)(g)</th>\n",
       "      <th>Curing Duration (days)</th>\n",
       "      <th>Admixtures</th>\n",
       "      <th>Tensile Strength (MPa)</th>\n",
       "    </tr>\n",
       "  </thead>\n",
       "  <tbody>\n",
       "    <tr>\n",
       "      <th>0</th>\n",
       "      <td>701</td>\n",
       "      <td>190</td>\n",
       "      <td>WHITE CEMENT</td>\n",
       "      <td>20</td>\n",
       "      <td>2828</td>\n",
       "      <td>1414</td>\n",
       "      <td>7</td>\n",
       "      <td>Air-Entraining</td>\n",
       "      <td>2.953152</td>\n",
       "    </tr>\n",
       "    <tr>\n",
       "      <th>1</th>\n",
       "      <td>701</td>\n",
       "      <td>100</td>\n",
       "      <td>WHITE CEMENT</td>\n",
       "      <td>10</td>\n",
       "      <td>2828</td>\n",
       "      <td>1414</td>\n",
       "      <td>7</td>\n",
       "      <td>Air-Entraining</td>\n",
       "      <td>2.587828</td>\n",
       "    </tr>\n",
       "    <tr>\n",
       "      <th>2</th>\n",
       "      <td>701</td>\n",
       "      <td>284</td>\n",
       "      <td>OPC</td>\n",
       "      <td>5</td>\n",
       "      <td>2828</td>\n",
       "      <td>1414</td>\n",
       "      <td>7</td>\n",
       "      <td>No Admixture</td>\n",
       "      <td>3.221041</td>\n",
       "    </tr>\n",
       "    <tr>\n",
       "      <th>3</th>\n",
       "      <td>701</td>\n",
       "      <td>246</td>\n",
       "      <td>KP Silver</td>\n",
       "      <td>5</td>\n",
       "      <td>2828</td>\n",
       "      <td>1414</td>\n",
       "      <td>7</td>\n",
       "      <td>Air-Entraining</td>\n",
       "      <td>1.753442</td>\n",
       "    </tr>\n",
       "    <tr>\n",
       "      <th>4</th>\n",
       "      <td>701</td>\n",
       "      <td>277</td>\n",
       "      <td>WHITE CEMENT</td>\n",
       "      <td>20</td>\n",
       "      <td>2828</td>\n",
       "      <td>1414</td>\n",
       "      <td>7</td>\n",
       "      <td>No Admixture</td>\n",
       "      <td>2.346771</td>\n",
       "    </tr>\n",
       "  </tbody>\n",
       "</table>\n",
       "</div>"
      ],
      "text/plain": [
       "   Cement amount (g)  Water (g) Type of cement  Average Aggregate size (mm)  \\\n",
       "0                701        190   WHITE CEMENT                           20   \n",
       "1                701        100   WHITE CEMENT                           10   \n",
       "2                701        284            OPC                            5   \n",
       "3                701        246      KP Silver                            5   \n",
       "4                701        277   WHITE CEMENT                           20   \n",
       "\n",
       "   Aggregate(Coarse)(g)  Aggregate(SAND)(g)  Curing Duration (days)  \\\n",
       "0                  2828                1414                       7   \n",
       "1                  2828                1414                       7   \n",
       "2                  2828                1414                       7   \n",
       "3                  2828                1414                       7   \n",
       "4                  2828                1414                       7   \n",
       "\n",
       "       Admixtures  Tensile Strength (MPa)  \n",
       "0  Air-Entraining                2.953152  \n",
       "1  Air-Entraining                2.587828  \n",
       "2    No Admixture                3.221041  \n",
       "3  Air-Entraining                1.753442  \n",
       "4    No Admixture                2.346771  "
      ]
     },
     "execution_count": 7,
     "metadata": {},
     "output_type": "execute_result"
    }
   ],
   "source": [
    "\n",
    "data = data.drop([\"Samples\", \"Load at Fracture (N)\"], axis=1)\n",
    "data.head()"
   ]
  },
  {
   "cell_type": "markdown",
   "metadata": {},
   "source": [
    "### ENCODING MY COLUMNS"
   ]
  },
  {
   "cell_type": "code",
   "execution_count": 8,
   "metadata": {},
   "outputs": [
    {
     "data": {
      "text/plain": [
       "Cement amount (g)                int64\n",
       "Water (g)                        int64\n",
       "Type of cement                  object\n",
       "Average Aggregate size (mm)      int64\n",
       "Aggregate(Coarse)(g)             int64\n",
       "Aggregate(SAND)(g)               int64\n",
       "Curing Duration (days)           int64\n",
       "Admixtures                      object\n",
       "Tensile Strength (MPa)         float64\n",
       "dtype: object"
      ]
     },
     "execution_count": 8,
     "metadata": {},
     "output_type": "execute_result"
    }
   ],
   "source": [
    "data.dtypes"
   ]
  },
  {
   "cell_type": "markdown",
   "metadata": {},
   "source": [
    "## Encoding"
   ]
  },
  {
   "cell_type": "code",
   "execution_count": 9,
   "metadata": {},
   "outputs": [
    {
     "data": {
      "text/html": [
       "<div>\n",
       "<style scoped>\n",
       "    .dataframe tbody tr th:only-of-type {\n",
       "        vertical-align: middle;\n",
       "    }\n",
       "\n",
       "    .dataframe tbody tr th {\n",
       "        vertical-align: top;\n",
       "    }\n",
       "\n",
       "    .dataframe thead th {\n",
       "        text-align: right;\n",
       "    }\n",
       "</style>\n",
       "<table border=\"1\" class=\"dataframe\">\n",
       "  <thead>\n",
       "    <tr style=\"text-align: right;\">\n",
       "      <th></th>\n",
       "      <th>Cement amount (g)</th>\n",
       "      <th>Water (g)</th>\n",
       "      <th>Type of cement</th>\n",
       "      <th>Average Aggregate size (mm)</th>\n",
       "      <th>Aggregate(Coarse)(g)</th>\n",
       "      <th>Aggregate(SAND)(g)</th>\n",
       "      <th>Curing Duration (days)</th>\n",
       "      <th>Admixtures</th>\n",
       "      <th>Tensile Strength (MPa)</th>\n",
       "    </tr>\n",
       "  </thead>\n",
       "  <tbody>\n",
       "    <tr>\n",
       "      <th>0</th>\n",
       "      <td>701</td>\n",
       "      <td>190</td>\n",
       "      <td>2</td>\n",
       "      <td>20</td>\n",
       "      <td>2828</td>\n",
       "      <td>1414</td>\n",
       "      <td>7</td>\n",
       "      <td>0</td>\n",
       "      <td>2.953152</td>\n",
       "    </tr>\n",
       "    <tr>\n",
       "      <th>1</th>\n",
       "      <td>701</td>\n",
       "      <td>100</td>\n",
       "      <td>2</td>\n",
       "      <td>10</td>\n",
       "      <td>2828</td>\n",
       "      <td>1414</td>\n",
       "      <td>7</td>\n",
       "      <td>0</td>\n",
       "      <td>2.587828</td>\n",
       "    </tr>\n",
       "    <tr>\n",
       "      <th>2</th>\n",
       "      <td>701</td>\n",
       "      <td>284</td>\n",
       "      <td>0</td>\n",
       "      <td>5</td>\n",
       "      <td>2828</td>\n",
       "      <td>1414</td>\n",
       "      <td>7</td>\n",
       "      <td>1</td>\n",
       "      <td>3.221041</td>\n",
       "    </tr>\n",
       "  </tbody>\n",
       "</table>\n",
       "</div>"
      ],
      "text/plain": [
       "   Cement amount (g)  Water (g)  Type of cement  Average Aggregate size (mm)  \\\n",
       "0                701        190               2                           20   \n",
       "1                701        100               2                           10   \n",
       "2                701        284               0                            5   \n",
       "\n",
       "   Aggregate(Coarse)(g)  Aggregate(SAND)(g)  Curing Duration (days)  \\\n",
       "0                  2828                1414                       7   \n",
       "1                  2828                1414                       7   \n",
       "2                  2828                1414                       7   \n",
       "\n",
       "   Admixtures  Tensile Strength (MPa)  \n",
       "0           0                2.953152  \n",
       "1           0                2.587828  \n",
       "2           1                3.221041  "
      ]
     },
     "execution_count": 9,
     "metadata": {},
     "output_type": "execute_result"
    }
   ],
   "source": [
    "\n",
    "data['Type of cement'] = data['Type of cement'].replace({\"OPC\": 0, \"KP Silver\": 1, \"WHITE CEMENT\": 2})\n",
    "data['Admixtures'] = data['Admixtures'].replace({\"Air-Entraining\": 0, \"No Admixture\": 1})\n",
    "data.head(3)"
   ]
  },
  {
   "cell_type": "markdown",
   "metadata": {},
   "source": []
  },
  {
   "cell_type": "code",
   "execution_count": 10,
   "metadata": {},
   "outputs": [
    {
     "data": {
      "text/html": [
       "<div>\n",
       "<style scoped>\n",
       "    .dataframe tbody tr th:only-of-type {\n",
       "        vertical-align: middle;\n",
       "    }\n",
       "\n",
       "    .dataframe tbody tr th {\n",
       "        vertical-align: top;\n",
       "    }\n",
       "\n",
       "    .dataframe thead th {\n",
       "        text-align: right;\n",
       "    }\n",
       "</style>\n",
       "<table border=\"1\" class=\"dataframe\">\n",
       "  <thead>\n",
       "    <tr style=\"text-align: right;\">\n",
       "      <th></th>\n",
       "      <th>Cement amount (g)</th>\n",
       "      <th>Water (g)</th>\n",
       "      <th>Type of cement</th>\n",
       "      <th>Average Aggregate size (mm)</th>\n",
       "      <th>Aggregate(Coarse)(g)</th>\n",
       "      <th>Aggregate(SAND)(g)</th>\n",
       "      <th>Curing Duration (days)</th>\n",
       "      <th>Admixtures</th>\n",
       "      <th>Tensile Strength (MPa)</th>\n",
       "    </tr>\n",
       "  </thead>\n",
       "  <tbody>\n",
       "    <tr>\n",
       "      <th>0</th>\n",
       "      <td>701</td>\n",
       "      <td>190</td>\n",
       "      <td>2</td>\n",
       "      <td>20</td>\n",
       "      <td>2828</td>\n",
       "      <td>1414</td>\n",
       "      <td>7</td>\n",
       "      <td>0</td>\n",
       "      <td>2.953152</td>\n",
       "    </tr>\n",
       "    <tr>\n",
       "      <th>1</th>\n",
       "      <td>701</td>\n",
       "      <td>100</td>\n",
       "      <td>2</td>\n",
       "      <td>10</td>\n",
       "      <td>2828</td>\n",
       "      <td>1414</td>\n",
       "      <td>7</td>\n",
       "      <td>0</td>\n",
       "      <td>2.587828</td>\n",
       "    </tr>\n",
       "    <tr>\n",
       "      <th>2</th>\n",
       "      <td>701</td>\n",
       "      <td>284</td>\n",
       "      <td>0</td>\n",
       "      <td>5</td>\n",
       "      <td>2828</td>\n",
       "      <td>1414</td>\n",
       "      <td>7</td>\n",
       "      <td>1</td>\n",
       "      <td>3.221041</td>\n",
       "    </tr>\n",
       "  </tbody>\n",
       "</table>\n",
       "</div>"
      ],
      "text/plain": [
       "   Cement amount (g)  Water (g)  Type of cement  Average Aggregate size (mm)  \\\n",
       "0                701        190               2                           20   \n",
       "1                701        100               2                           10   \n",
       "2                701        284               0                            5   \n",
       "\n",
       "   Aggregate(Coarse)(g)  Aggregate(SAND)(g)  Curing Duration (days)  \\\n",
       "0                  2828                1414                       7   \n",
       "1                  2828                1414                       7   \n",
       "2                  2828                1414                       7   \n",
       "\n",
       "   Admixtures  Tensile Strength (MPa)  \n",
       "0           0                2.953152  \n",
       "1           0                2.587828  \n",
       "2           1                3.221041  "
      ]
     },
     "execution_count": 10,
     "metadata": {},
     "output_type": "execute_result"
    }
   ],
   "source": [
    "#data = data.drop([\"Cement amount (g)\", \"Aggregate(Coarse)(g)\",\"Aggregate(SAND)(g)\",\"Curing Duration (days)\"], axis=1)\n",
    "data.head(3)"
   ]
  },
  {
   "cell_type": "markdown",
   "metadata": {},
   "source": []
  },
  {
   "cell_type": "code",
   "execution_count": 11,
   "metadata": {},
   "outputs": [
    {
     "data": {
      "text/plain": [
       "(81, 9)"
      ]
     },
     "execution_count": 11,
     "metadata": {},
     "output_type": "execute_result"
    }
   ],
   "source": [
    "data.shape"
   ]
  },
  {
   "cell_type": "markdown",
   "metadata": {},
   "source": [
    "The data is NOW PERFECT FOR Training my model"
   ]
  },
  {
   "cell_type": "markdown",
   "metadata": {},
   "source": [
    "# THE PYTORCH MODEL"
   ]
  },
  {
   "cell_type": "code",
   "execution_count": 12,
   "metadata": {},
   "outputs": [],
   "source": [
    "import torch\n",
    "from torch.utils.data import Dataset, DataLoader\n",
    "from sklearn.model_selection import train_test_split\n",
    "from torch import nn, optim\n",
    "import pandas as pd"
   ]
  },
  {
   "cell_type": "code",
   "execution_count": 13,
   "metadata": {},
   "outputs": [],
   "source": [
    "from sklearn.preprocessing import StandardScaler\n",
    "# Assuming df is your DataFrame and that it's already been preprocessed\n",
    "X = data.drop('Tensile Strength (MPa)', axis=1).values\n",
    "y = data['Tensile Strength (MPa)'].values\n",
    "\n",
    "# Initialize a scaler\n",
    "scaler = StandardScaler()\n",
    "\n",
    "# Fit on the features and transform\n",
    "normalized_features = scaler.fit_transform(X)\n",
    "\n",
    "# Split the data into training and testing sets\n",
    "X_train, X_test, y_train, y_test = train_test_split(normalized_features, y, test_size=0.2, random_state=42)\n",
    "\n",
    "# Convert the data to PyTorch tensors\n",
    "X_train = torch.FloatTensor(X_train)\n",
    "y_train = torch.FloatTensor(y_train)\n",
    "X_test = torch.FloatTensor(X_test)\n",
    "y_test = torch.FloatTensor(y_test)\n",
    "\n"
   ]
  },
  {
   "cell_type": "markdown",
   "metadata": {},
   "source": [
    "## The Model"
   ]
  },
  {
   "cell_type": "code",
   "execution_count": 14,
   "metadata": {},
   "outputs": [],
   "source": [
    "import torch\n",
    "from torch.utils.data import Dataset, DataLoader\n",
    "from torch import nn, optim\n",
    "\n",
    "class TensileStrength(nn.Module):\n",
    "    def __init__(self,input_size,output_size):\n",
    "        super(TensileStrength, self).__init__()\n",
    "        self.fc1 = nn.Linear(input_size, 64)\n",
    "        self.fc2 = nn.Linear(64, 64)\n",
    "        self.fc3 = nn.Linear(64, 64)\n",
    "        self.fc4 = nn.Linear(64, 64)\n",
    "        self.fc5 = nn.Linear(64, output_size)\n",
    "\n",
    "    def forward(self, x):\n",
    "        x = torch.relu(self.fc1(x))\n",
    "        x = torch.relu(self.fc2(x))\n",
    "        x = torch.relu(self.fc3(x))\n",
    "        x = torch.relu(self.fc4(x))\n",
    "        x = self.fc5(x)\n",
    "        return x\n",
    "\n"
   ]
  },
  {
   "cell_type": "code",
   "execution_count": 15,
   "metadata": {},
   "outputs": [],
   "source": [
    "# INITIALIZING THE MODEL\n",
    "model = TensileStrength(X_train.shape[1], 1)"
   ]
  },
  {
   "cell_type": "markdown",
   "metadata": {},
   "source": [
    "### Model Achitecture"
   ]
  },
  {
   "cell_type": "code",
   "execution_count": 16,
   "metadata": {},
   "outputs": [
    {
     "name": "stdout",
     "output_type": "stream",
     "text": [
      "----------------------------------------------------------------\n",
      "        Layer (type)               Output Shape         Param #\n",
      "================================================================\n",
      "            Linear-1                   [-1, 64]             576\n",
      "            Linear-2                   [-1, 64]           4,160\n",
      "            Linear-3                   [-1, 64]           4,160\n",
      "            Linear-4                   [-1, 64]           4,160\n",
      "            Linear-5                    [-1, 1]              65\n",
      "================================================================\n",
      "Total params: 13,121\n",
      "Trainable params: 13,121\n",
      "Non-trainable params: 0\n",
      "----------------------------------------------------------------\n",
      "Input size (MB): 0.00\n",
      "Forward/backward pass size (MB): 0.00\n",
      "Params size (MB): 0.05\n",
      "Estimated Total Size (MB): 0.05\n",
      "----------------------------------------------------------------\n"
     ]
    }
   ],
   "source": [
    "from torchsummary import summary\n",
    "input_size = (X_train.shape[1],) \n",
    "summary(model, input_size)\n"
   ]
  },
  {
   "cell_type": "markdown",
   "metadata": {},
   "source": [
    "### LOSS FUNCTION AND MODEL OPTIMIZATION"
   ]
  },
  {
   "cell_type": "code",
   "execution_count": 17,
   "metadata": {},
   "outputs": [],
   "source": [
    "criterion = nn.MSELoss()\n",
    "optimizer = torch.optim.SGD(model.parameters(), lr=0.01, weight_decay=0.01)\n",
    "\n"
   ]
  },
  {
   "cell_type": "markdown",
   "metadata": {},
   "source": [
    "## Training"
   ]
  },
  {
   "cell_type": "code",
   "execution_count": 18,
   "metadata": {},
   "outputs": [
    {
     "name": "stderr",
     "output_type": "stream",
     "text": [
      "c:\\Users\\Administrator\\anaconda3\\Lib\\site-packages\\torch\\nn\\modules\\loss.py:535: UserWarning: Using a target size (torch.Size([64])) that is different to the input size (torch.Size([64, 1])). This will likely lead to incorrect results due to broadcasting. Please ensure they have the same size.\n",
      "  return F.mse_loss(input, target, reduction=self.reduction)\n",
      "c:\\Users\\Administrator\\anaconda3\\Lib\\site-packages\\torch\\nn\\modules\\loss.py:535: UserWarning: Using a target size (torch.Size([17])) that is different to the input size (torch.Size([17, 1])). This will likely lead to incorrect results due to broadcasting. Please ensure they have the same size.\n",
      "  return F.mse_loss(input, target, reduction=self.reduction)\n"
     ]
    }
   ],
   "source": [
    "num_epochs = 80\n",
    "losses = []  # to store the loss values\n",
    "val_losses = []  # to store the validation loss values\n",
    "streak = 0  # to count the streak of constant loss\n",
    "\n",
    "# Training loop\n",
    "for epoch in range(num_epochs):\n",
    "    # Forward pass\n",
    "    outputs = model(X_train)\n",
    "    loss = criterion(outputs, y_train)\n",
    "    \n",
    "    # Validate the model\n",
    "    val_outputs = model(X_test)\n",
    "    val_loss = criterion(val_outputs, y_test)\n",
    "    \n",
    "    # Backward and optimize\n",
    "    optimizer.zero_grad()\n",
    "    loss.backward()\n",
    "    optimizer.step()\n",
    "    \n",
    "    # Save the losses\n",
    "    losses.append(loss.item())\n",
    "    val_losses.append(val_loss.item())\n",
    "    \n",
    "    # Check if the loss is constant\n",
    "    if len(losses) > 1 and losses[-1] == losses[-2]:\n",
    "        streak += 1\n",
    "    else:\n",
    "        streak = 0\n",
    "    \n",
    "    # Stop training if the loss is constant for 10 epochs\n",
    "    if streak >= 20:\n",
    "        print('Loss is constant for 10 epochs, stopping training')\n",
    "        break\n",
    "    \n",
    "    if (epoch+1) % 100 == 0:\n",
    "        print ('Epoch [{}/{}], Loss: {:.4f}, Val Loss: {:.4f}'.format(epoch+1, num_epochs, loss.item(), val_loss.item()))\n"
   ]
  },
  {
   "cell_type": "markdown",
   "metadata": {},
   "source": [
    "### Loss Vs Epochs"
   ]
  },
  {
   "cell_type": "code",
   "execution_count": 19,
   "metadata": {},
   "outputs": [
    {
     "data": {
      "image/png": "[encoded data removed]",
      "text/plain": [
       "<Figure size 1000x500 with 1 Axes>"
      ]
     },
     "metadata": {},
     "output_type": "display_data"
    }
   ],
   "source": [
    "# Plotting the training and validation loss\n",
    "plt.figure(figsize=(10,5))\n",
    "plt.plot(losses, label='Training Loss')\n",
    "plt.plot(val_losses, label='Validation Loss')\n",
    "plt.title('Training and Validation Losses')\n",
    "plt.xlabel('Epoch')\n",
    "plt.ylabel('Loss')\n",
    "plt.legend()\n",
    "plt.show()"
   ]
  },
  {
   "cell_type": "markdown",
   "metadata": {},
   "source": [
    "### Model evaluation"
   ]
  },
  {
   "cell_type": "code",
   "execution_count": 20,
   "metadata": {},
   "outputs": [
    {
     "name": "stdout",
     "output_type": "stream",
     "text": [
      "Shape of actual_values: (17,)\n",
      "Shape of predicted_values: (17, 1)\n",
      "Shape of errors: (17, 17)\n"
     ]
    }
   ],
   "source": [
    "# Forward pass on validation data and calculate loss\n",
    "val_outputs = model(X_test)\n",
    "\n",
    "# Convert tensors to numpy arrays for plotting\n",
    "actual_values = y_test.detach().numpy()\n",
    "predicted_values = val_outputs.detach().numpy()\n",
    "\n",
    "# Calculate the absolute error\n",
    "errors = np.abs(actual_values - predicted_values)\n",
    "\n",
    "print(\"Shape of actual_values:\", actual_values.shape)\n",
    "print(\"Shape of predicted_values:\", predicted_values.shape)\n",
    "print(\"Shape of errors:\", errors.shape)\n"
   ]
  },
  {
   "cell_type": "code",
   "execution_count": 21,
   "metadata": {},
   "outputs": [
    {
     "data": {
      "image/png": "[encoded data removed]",
      "text/plain": [
       "<Figure size 1000x500 with 2 Axes>"
      ]
     },
     "metadata": {},
     "output_type": "display_data"
    }
   ],
   "source": [
    "import matplotlib.pyplot as plt\n",
    "import numpy as np\n",
    "\n",
    "# Forward pass on validation data and calculate loss\n",
    "val_outputs = model(X_test)\n",
    "\n",
    "# Convert tensors to numpy arrays for plotting\n",
    "actual_values = y_test.detach().numpy()\n",
    "predicted_values = np.squeeze(val_outputs.detach().numpy())\n",
    "\n",
    "# Calculate the absolute error\n",
    "errors = np.abs(actual_values - predicted_values)\n",
    "\n",
    "# Create a scatter plot with colors representing the error\n",
    "plt.figure(figsize=(10,5))\n",
    "plt.scatter(actual_values, predicted_values, c=errors, cmap='viridis', alpha=0.5)\n",
    "plt.colorbar(label='Error')\n",
    "plt.xlabel('Actual Values')\n",
    "plt.ylabel('Predicted Values')\n",
    "plt.title('Actual vs Predicted Values')\n",
    "\n",
    "# Plot a diagonal line for reference\n",
    "plt.plot([actual_values.min(), actual_values.max()], [actual_values.min(), actual_values.max()], 'k--', lw=2, label='Ideal Prediction')\n",
    "plt.legend()\n",
    "\n",
    "plt.show()\n"
   ]
  },
  {
   "cell_type": "markdown",
   "metadata": {},
   "source": [
    " This scatter plot will help you visualize the correlation between the actual and predicted values. Points that lie on the diagonal line represent perfect predictions, while points that deviate from the line represent errors in prediction."
   ]
  },
  {
   "cell_type": "code",
   "execution_count": 22,
   "metadata": {},
   "outputs": [
    {
     "name": "stdout",
     "output_type": "stream",
     "text": [
      "Mean Absolute Error: 0.4000000059604645 \n",
      "Mean Squared Error: 0.20999999344348907 \n",
      "R-Squared error: -1.46 %\n"
     ]
    }
   ],
   "source": [
    "from sklearn.metrics import mean_absolute_error, r2_score, mean_squared_error\n",
    "\n",
    "model.eval()\n",
    "with torch.no_grad():\n",
    "    y_pred = model(X_test)\n",
    "\n",
    "# Convert tensors to numpy arrays for sklearn metrics\n",
    "y_test_np = y_test.detach().numpy()\n",
    "y_pred_np = y_pred.detach().numpy()\n",
    "\n",
    "# Calculate Mean Absolute Error\n",
    "mae = mean_absolute_error(y_test_np, y_pred_np)\n",
    "print(f\"Mean Absolute Error: {round(mae , 2) } \")\n",
    "\n",
    "# Calculate Mean Squared Error\n",
    "mse = mean_squared_error(y_test_np, y_pred_np)\n",
    "print(f\"Mean Squared Error: {round(mse, 2)} \")\n",
    "\n",
    "#calculate r2_score error\n",
    "r2score = r2_score(y_test_np, y_pred_np)\n",
    "print(f\"R-Squared error: {round(r2score*100 , 2)} %\")\n",
    "\n",
    "\n",
    "#R-Squared error: 78.3467 %\n"
   ]
  },
  {
   "cell_type": "markdown",
   "metadata": {},
   "source": [
    "### Save the model"
   ]
  },
  {
   "cell_type": "code",
   "execution_count": 23,
   "metadata": {},
   "outputs": [],
   "source": [
    "# Save the model\n",
    "torch.save(model, 'Model\\copytensile_strength_model.pth')"
   ]
  },
  {
   "cell_type": "markdown",
   "metadata": {},
   "source": [
    "prediction"
   ]
  },
  {
   "cell_type": "code",
   "execution_count": 28,
   "metadata": {},
   "outputs": [],
   "source": [
    "data = {\n",
    "    \"Cement amount (g)\": 701,\n",
    "    \"Water (g)\": 500,\n",
    "    \"Type of cement\": 2,\n",
    "    \"Aggregate(Coarse)(g)\":2828,\n",
    "    \"Aggregate(SAND)(g)\": 1414,\n",
    "    \"Average Aggregate size (mm)\": 20,\n",
    "    \"Curing Duration (days)\": 7,\n",
    "    \"Admixtures\":1\n",
    "}"
   ]
  },
  {
   "cell_type": "code",
   "execution_count": 29,
   "metadata": {},
   "outputs": [
    {
     "name": "stdout",
     "output_type": "stream",
     "text": [
      "Data: {'Cement amount (g)': 701, 'Water (g)': 500, 'Type of cement': 2, 'Aggregate(Coarse)(g)': 2828, 'Aggregate(SAND)(g)': 1414, 'Average Aggregate size (mm)': 20, 'Curing Duration (days)': 7, 'Admixtures': 1}\n",
      "Predicted Tensile Strength: 2.24014 MPa\n"
     ]
    }
   ],
   "source": [
    "# Initialize a scaler\n",
    "scaler = StandardScaler()\n",
    "\n",
    "# Fit on the features and transform\n",
    "normalized_features = scaler.fit_transform([list(data.values())])\n",
    "\n",
    "    # model path\n",
    "modell = torch.load(\"Model\\copytensile_strength_model.pth\")\n",
    "# Load the state dictionary\n",
    "\n",
    "# Make a prediction\n",
    "with torch.no_grad():\n",
    "    inputs = torch.tensor(normalized_features, dtype=torch.float)\n",
    "    outputs = modell.forward(inputs)\n",
    "    \n",
    "# Print the data and prediction to the console (optional)\n",
    "print(\"Data:\", data)\n",
    "print(\"Predicted Tensile Strength:\", round(outputs.item(), 5), \"MPa\")\n"
   ]
  }
 ],
 "metadata": {
  "kernelspec": {
   "display_name": "base",
   "language": "python",
   "name": "python3"
  },
  "language_info": {
   "codemirror_mode": {
    "name": "ipython",
    "version": 3
   },
   "file_extension": ".py",
   "mimetype": "text/x-python",
   "name": "python",
   "nbconvert_exporter": "python",
   "pygments_lexer": "ipython3",
   "version": "3.11.7"
  }
 },
 "nbformat": 4,
 "nbformat_minor": 2
}
